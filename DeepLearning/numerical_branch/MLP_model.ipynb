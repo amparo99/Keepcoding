{
 "cells": [
  {
   "cell_type": "markdown",
   "metadata": {},
   "source": [
    "*AMPARO ALÍAS CUESTA*\n",
    "\n",
    "*--------------------------------------------------------------------------------------------------------------------*"
   ]
  },
  {
   "cell_type": "markdown",
   "metadata": {},
   "source": [
    "En este notebook se construye y compila el modelo mlp que procesará la data numérica y categórica. \n",
    "<br> No hace falta ejecutarlo ya que al final se guarda el modelo y desde el notebook principal se carga directamente, ya entrenado.\n",
    "<br>*--------------------------------------------------------------------------------------------------------------------*"
   ]
  },
  {
   "cell_type": "markdown",
   "metadata": {},
   "source": [
    "### Required imports"
   ]
  },
  {
   "cell_type": "code",
   "execution_count": 1,
   "metadata": {},
   "outputs": [],
   "source": [
    "import pandas as pd\n",
    "import numpy as np\n",
    "import matplotlib.pyplot as plt\n",
    "import seaborn as sns\n",
    "\n",
    "from sklearn.model_selection import train_test_split\n",
    "from tensorflow.keras.callbacks import EarlyStopping\n",
    "\n",
    "pd.set_option('display.max_columns', None)\n",
    "import warnings\n",
    "warnings.filterwarnings(\"ignore\")"
   ]
  },
  {
   "cell_type": "code",
   "execution_count": 2,
   "metadata": {},
   "outputs": [
    {
     "name": "stdout",
     "output_type": "stream",
     "text": [
      "../\n"
     ]
    }
   ],
   "source": [
    "import os \n",
    "path = '../'\n",
    "print(path)\n",
    "import sys \n",
    "sys.path.insert (0, path) "
   ]
  },
  {
   "cell_type": "code",
   "execution_count": 3,
   "metadata": {},
   "outputs": [],
   "source": [
    "import utils \n",
    "from utils import get_data_ready"
   ]
  },
  {
   "cell_type": "markdown",
   "metadata": {},
   "source": [
    "### Load and split data into train/test"
   ]
  },
  {
   "cell_type": "code",
   "execution_count": 4,
   "metadata": {},
   "outputs": [],
   "source": [
    "data = pd.read_csv('../airbnb-listings.csv', sep = ';')\n",
    "loaded_images = np.load('../images_branch/images.npy')\n",
    "was_loaded = np.load('../images_branch/was_loaded.npy')\n",
    "\n",
    "data = data[was_loaded == 1]\n",
    "loaded_images = loaded_images[was_loaded == 1]\n",
    "\n",
    "data.reset_index(drop=True, inplace = True)"
   ]
  },
  {
   "cell_type": "code",
   "execution_count": 12,
   "metadata": {},
   "outputs": [],
   "source": [
    "(trainNum, testNum, trainImages, testImages) = train_test_split(data, loaded_images, test_size=0.2, random_state=2)\n"
   ]
  },
  {
   "cell_type": "markdown",
   "metadata": {},
   "source": [
    "### Process NUMERICAL data\n",
    "(According to **numerical_data_processing** notebook -- decisions done based only on training data)"
   ]
  },
  {
   "cell_type": "code",
   "execution_count": 13,
   "metadata": {},
   "outputs": [],
   "source": [
    "X_train, y_train, X_test, y_test = get_data_ready(trainNum, testNum)\n"
   ]
  },
  {
   "cell_type": "markdown",
   "metadata": {},
   "source": [
    "### Save the data to avoid conflict in the main file"
   ]
  },
  {
   "cell_type": "code",
   "execution_count": 14,
   "metadata": {},
   "outputs": [],
   "source": [
    "np.save('../data/numerical/X_train.npy', X_train)\n",
    "np.save('../data/numerical/X_test.npy', X_test)\n",
    "\n",
    "y_train.to_csv('../data/numerical/y_train.csv', sep=';', decimal='.', index=True)\n",
    "y_test.to_csv('../data/numerical/y_test.csv', sep=';', decimal='.', index=True)"
   ]
  },
  {
   "cell_type": "code",
   "execution_count": 15,
   "metadata": {},
   "outputs": [],
   "source": [
    "y_train = y_train.values\n",
    "y_test = y_test.values"
   ]
  },
  {
   "cell_type": "code",
   "execution_count": 16,
   "metadata": {},
   "outputs": [],
   "source": [
    "maxPrice = y_train.max()\n",
    "y_train = y_train / maxPrice\n",
    "y_test = y_test / maxPrice"
   ]
  },
  {
   "cell_type": "markdown",
   "metadata": {},
   "source": [
    "### MLP MODEL"
   ]
  },
  {
   "cell_type": "code",
   "execution_count": 17,
   "metadata": {},
   "outputs": [],
   "source": [
    "# import the necessary packages\n",
    "from tensorflow.keras.models import Sequential, Model, save_model\n",
    "from tensorflow.keras.layers import BatchNormalization, Conv2D, MaxPooling2D, Activation, Dropout, Dense, Flatten, Input\n",
    "from tensorflow.keras.optimizers import Adam\n",
    "\n",
    "\n",
    "def create_mlp(dim):   \n",
    "\n",
    "    model = Sequential()\n",
    "\n",
    "    model.add(Dense(64, input_dim=dim))\n",
    "    model.add(BatchNormalization())\n",
    "    model.add(Activation('relu'))\n",
    "    model.add(Dropout(0.5))\n",
    "\n",
    "    model.add(Dense(32))\n",
    "    model.add(BatchNormalization())\n",
    "    model.add(Activation('relu'))\n",
    "    model.add(Dropout(0.4))\n",
    "    \n",
    "    model.add(Dense(1))\n",
    "    model.add(Activation('linear'))\n",
    "    \n",
    "    return model\n"
   ]
  },
  {
   "cell_type": "code",
   "execution_count": 20,
   "metadata": {},
   "outputs": [
    {
     "name": "stdout",
     "output_type": "stream",
     "text": [
      "[INFO] training model...\n",
      "Epoch 1/100\n",
      "63/63 [==============================] - 0s 3ms/step - loss: 1.0002 - val_loss: 0.1486\n",
      "Epoch 2/100\n",
      "63/63 [==============================] - 0s 2ms/step - loss: 0.6963 - val_loss: 0.1484\n",
      "Epoch 3/100\n",
      "63/63 [==============================] - 0s 2ms/step - loss: 0.5471 - val_loss: 0.1292\n",
      "Epoch 4/100\n",
      "63/63 [==============================] - 0s 2ms/step - loss: 0.4642 - val_loss: 0.1273\n",
      "Epoch 5/100\n",
      "63/63 [==============================] - 0s 2ms/step - loss: 0.3729 - val_loss: 0.1187\n",
      "Epoch 6/100\n",
      "63/63 [==============================] - 0s 2ms/step - loss: 0.3193 - val_loss: 0.1079\n",
      "Epoch 7/100\n",
      "63/63 [==============================] - 0s 2ms/step - loss: 0.2608 - val_loss: 0.0932\n",
      "Epoch 8/100\n",
      "63/63 [==============================] - 0s 2ms/step - loss: 0.2108 - val_loss: 0.0921\n",
      "Epoch 9/100\n",
      "63/63 [==============================] - 0s 2ms/step - loss: 0.1710 - val_loss: 0.0882\n",
      "Epoch 10/100\n",
      "63/63 [==============================] - 0s 2ms/step - loss: 0.1482 - val_loss: 0.0855\n",
      "Epoch 11/100\n",
      "63/63 [==============================] - 0s 2ms/step - loss: 0.1222 - val_loss: 0.0814\n",
      "Epoch 12/100\n",
      "63/63 [==============================] - 0s 2ms/step - loss: 0.1089 - val_loss: 0.0798\n",
      "Epoch 13/100\n",
      "63/63 [==============================] - 0s 2ms/step - loss: 0.0974 - val_loss: 0.0781\n",
      "Epoch 14/100\n",
      "63/63 [==============================] - 0s 2ms/step - loss: 0.0960 - val_loss: 0.0797\n",
      "Epoch 00014: early stopping\n"
     ]
    },
    {
     "data": {
      "text/plain": [
       "<tensorflow.python.keras.callbacks.History at 0x7fccad887390>"
      ]
     },
     "execution_count": 20,
     "metadata": {},
     "output_type": "execute_result"
    }
   ],
   "source": [
    "# create our MLP and then compile the model using mean absolute percentage error as our loss, implying that we seek to minimize\n",
    "# the absolute percentage difference between our price *predictions* and the *actual prices*\n",
    "\n",
    "model = create_mlp(X_train.shape[1])\n",
    "opt = Adam(lr=0.001, decay=1e-3/ 200)\n",
    "\n",
    "'''model.compile(\n",
    "    optimizer=opt, \n",
    "    loss='categorical_crossentropy', \n",
    "    metrics=['accuracy']\n",
    ")'''\n",
    "\n",
    "model.compile(loss=\"mean_absolute_error\", optimizer=opt)\n",
    "\n",
    "# train the model\n",
    "print(\"[INFO] training model...\")\n",
    "\n",
    "# simple early stopping\n",
    "es = EarlyStopping(monitor='val_loss', verbose=1)\n",
    "\n",
    "model.fit(\n",
    "    X_train, \n",
    "    y_train, \n",
    "    epochs=100, \n",
    "    validation_data=(X_test, y_test), \n",
    "    batch_size=32,\n",
    "    callbacks=[es]\n",
    ")\n"
   ]
  },
  {
   "cell_type": "code",
   "execution_count": 21,
   "metadata": {},
   "outputs": [],
   "source": [
    "model.save('MLP_model_reg.h5')  # creates a HDF5 file 'my_model.h5'\n",
    "#del model  # deletes the existing model"
   ]
  },
  {
   "cell_type": "code",
   "execution_count": 22,
   "metadata": {},
   "outputs": [
    {
     "data": {
      "text/plain": [
       "'Preds = model.evaluate(x = X_test, y = y_test)\\nprint()\\nprint (\"Loss = \" + str(preds[0]))\\nprint (\"Test Accuracy = \" + str(preds[1]))'"
      ]
     },
     "execution_count": 22,
     "metadata": {},
     "output_type": "execute_result"
    }
   ],
   "source": [
    "'''Preds = model.evaluate(x = X_test, y = y_test)\n",
    "print()\n",
    "print (\"Loss = \" + str(preds[0]))\n",
    "print (\"Test Accuracy = \" + str(preds[1]))'''"
   ]
  },
  {
   "cell_type": "code",
   "execution_count": 23,
   "metadata": {},
   "outputs": [
    {
     "name": "stdout",
     "output_type": "stream",
     "text": [
      "10/10 [==============================] - 0s 967us/step - loss: 0.0797\n",
      "\n",
      "Loss = 0.07971682399511337\n"
     ]
    }
   ],
   "source": [
    "preds = model.evaluate(x = X_test, y = y_test)\n",
    "print()\n",
    "print(\"Loss = \" + str(preds))"
   ]
  },
  {
   "cell_type": "code",
   "execution_count": 24,
   "metadata": {},
   "outputs": [
    {
     "name": "stdout",
     "output_type": "stream",
     "text": [
      "Model: \"sequential_3\"\n",
      "_________________________________________________________________\n",
      "Layer (type)                 Output Shape              Param #   \n",
      "=================================================================\n",
      "dense_9 (Dense)              (None, 64)                1792      \n",
      "_________________________________________________________________\n",
      "batch_normalization_6 (Batch (None, 64)                256       \n",
      "_________________________________________________________________\n",
      "activation_9 (Activation)    (None, 64)                0         \n",
      "_________________________________________________________________\n",
      "dropout_6 (Dropout)          (None, 64)                0         \n",
      "_________________________________________________________________\n",
      "dense_10 (Dense)             (None, 32)                2080      \n",
      "_________________________________________________________________\n",
      "batch_normalization_7 (Batch (None, 32)                128       \n",
      "_________________________________________________________________\n",
      "activation_10 (Activation)   (None, 32)                0         \n",
      "_________________________________________________________________\n",
      "dropout_7 (Dropout)          (None, 32)                0         \n",
      "_________________________________________________________________\n",
      "dense_11 (Dense)             (None, 1)                 33        \n",
      "_________________________________________________________________\n",
      "activation_11 (Activation)   (None, 1)                 0         \n",
      "=================================================================\n",
      "Total params: 4,289\n",
      "Trainable params: 4,097\n",
      "Non-trainable params: 192\n",
      "_________________________________________________________________\n"
     ]
    }
   ],
   "source": [
    "model.summary()"
   ]
  },
  {
   "cell_type": "code",
   "execution_count": null,
   "metadata": {},
   "outputs": [],
   "source": []
  }
 ],
 "metadata": {
  "kernelspec": {
   "display_name": "Python 3",
   "language": "python",
   "name": "python3"
  },
  "language_info": {
   "codemirror_mode": {
    "name": "ipython",
    "version": 3
   },
   "file_extension": ".py",
   "mimetype": "text/x-python",
   "name": "python",
   "nbconvert_exporter": "python",
   "pygments_lexer": "ipython3",
   "version": "3.7.7"
  }
 },
 "nbformat": 4,
 "nbformat_minor": 4
}
