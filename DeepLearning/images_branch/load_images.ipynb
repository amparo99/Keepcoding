{
 "cells": [
  {
   "cell_type": "markdown",
   "metadata": {},
   "source": [
    "### Required imports"
   ]
  },
  {
   "cell_type": "code",
   "execution_count": null,
   "metadata": {},
   "outputs": [],
   "source": [
    "#!pip install opencv-python"
   ]
  },
  {
   "cell_type": "code",
   "execution_count": 4,
   "metadata": {},
   "outputs": [],
   "source": [
    "import pandas as pd\n",
    "import numpy as np\n",
    "import matplotlib.pyplot as plt\n",
    "import seaborn as sns\n",
    "\n",
    "from sklearn.model_selection import train_test_split\n",
    "\n",
    "pd.set_option('display.max_columns', None)\n",
    "import warnings\n",
    "warnings.filterwarnings(\"ignore\")"
   ]
  },
  {
   "cell_type": "code",
   "execution_count": 1,
   "metadata": {},
   "outputs": [
    {
     "name": "stdout",
     "output_type": "stream",
     "text": [
      "../\n"
     ]
    }
   ],
   "source": [
    "import os \n",
    "path = '../'\n",
    "print(path)\n",
    "import sys \n",
    "sys.path.insert (0, path) "
   ]
  },
  {
   "cell_type": "code",
   "execution_count": 2,
   "metadata": {},
   "outputs": [],
   "source": [
    "import imageio as io\n",
    "import cv2\n",
    "import concurrent.futures\n",
    "from concurrent.futures import ProcessPoolExecutor\n",
    "from tqdm import tqdm"
   ]
  },
  {
   "cell_type": "markdown",
   "metadata": {},
   "source": [
    "### Read data"
   ]
  },
  {
   "cell_type": "code",
   "execution_count": 5,
   "metadata": {},
   "outputs": [],
   "source": [
    "data = pd.read_csv('../airbnb-listings.csv', sep = ';')"
   ]
  },
  {
   "cell_type": "code",
   "execution_count": 5,
   "metadata": {},
   "outputs": [
    {
     "data": {
      "text/plain": [
       "(14001, 89)"
      ]
     },
     "execution_count": 5,
     "metadata": {},
     "output_type": "execute_result"
    }
   ],
   "source": [
    "data.shape"
   ]
  },
  {
   "cell_type": "markdown",
   "metadata": {},
   "source": [
    "### Load images"
   ]
  },
  {
   "cell_type": "code",
   "execution_count": null,
   "metadata": {},
   "outputs": [],
   "source": [
    "images_paths = [[i, img_url] for i, img_url in enumerate(data['Thumbnail Url'])]\n",
    "\n",
    "# Tensor to save the images\n",
    "loaded_images = np.zeros((len(images_paths), 224, 224, 3), dtype=np.uint8)\n",
    "\n",
    "# Tensor to check which images were not saved\n",
    "was_loaded = np.zeros(len(images_paths))"
   ]
  },
  {
   "cell_type": "code",
   "execution_count": null,
   "metadata": {},
   "outputs": [],
   "source": [
    "# This function downloads the images and returns them with the index where to save them\n",
    "def get_image(data_url, target_size=(224, 224)):\n",
    "    idx, url = data_url\n",
    "    try:\n",
    "        img = io.imread(url)\n",
    "        # Some images may be in black & white. I convert to to RGB as otherwise it generates error\n",
    "        if img.ndim < 3:\n",
    "            img = cv2.cvtColor(img, cv2.COLOR_GRAY2RGB)\n",
    "        img = cv2.resize(img, dsize=target_size)\n",
    "        return img, idx\n",
    "    except IOError as err:\n",
    "        return (None, idx)"
   ]
  },
  {
   "cell_type": "code",
   "execution_count": null,
   "metadata": {},
   "outputs": [],
   "source": [
    "def main():\n",
    "# Creating pool to load images. By default, it uses as much cores as your machine has\n",
    "    with ProcessPoolExecutor() as executor:\n",
    "        for (img, idx) in tqdm(executor.map(get_image, images_paths), total=len(images_paths)):\n",
    "            # Loading the images\n",
    "            try:\n",
    "                if img is not None:\n",
    "                    loaded_images[idx] = img\n",
    "                    was_loaded[idx] = 1\n",
    "                else:\n",
    "                    was_loaded[idx] = 0\n",
    "            except:\n",
    "                    print(\"Problem with an instance!\")\n",
    "\n",
    "if __name__ == '__main__':\n",
    "    main()\n",
    "    \n",
    "print('Finished!')\n",
    "print(f'Number of images loaded: {sum(was_loaded)}/{len(images_paths)}')"
   ]
  },
  {
   "cell_type": "code",
   "execution_count": null,
   "metadata": {},
   "outputs": [],
   "source": [
    "# Saving images. I'd recommend to save this to not repeat this process3\n",
    "np.save('images.npy', loaded_images)\n",
    "np.save('was_loaded.npy', was_loaded)"
   ]
  },
  {
   "cell_type": "code",
   "execution_count": null,
   "metadata": {},
   "outputs": [],
   "source": []
  }
 ],
 "metadata": {
  "kernelspec": {
   "display_name": "dlenv",
   "language": "python",
   "name": "dlenv"
  },
  "language_info": {
   "codemirror_mode": {
    "name": "ipython",
    "version": 3
   },
   "file_extension": ".py",
   "mimetype": "text/x-python",
   "name": "python",
   "nbconvert_exporter": "python",
   "pygments_lexer": "ipython3",
   "version": "3.7.7"
  }
 },
 "nbformat": 4,
 "nbformat_minor": 4
}
