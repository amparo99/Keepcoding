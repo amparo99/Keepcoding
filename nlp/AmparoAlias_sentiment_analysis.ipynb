{
 "cells": [
  {
   "cell_type": "markdown",
   "metadata": {},
   "source": [
    "### Imports"
   ]
  },
  {
   "cell_type": "code",
   "execution_count": 1,
   "metadata": {},
   "outputs": [],
   "source": [
    "import json\n",
    "import pandas as pd\n",
    "import re\n",
    "import string\n",
    "import unidecode\n",
    "import nltk\n",
    "import matplotlib.pyplot as plt\n",
    "import seaborn as sns\n",
    "import numpy as np\n",
    "from numpy import random"
   ]
  },
  {
   "cell_type": "code",
   "execution_count": 2,
   "metadata": {},
   "outputs": [],
   "source": [
    "from sklearn.ensemble import RandomForestClassifier\n",
    "from sklearn.linear_model import LogisticRegression\n",
    "from sklearn.model_selection import GridSearchCV\n",
    "\n",
    "from sklearn.feature_extraction.text import CountVectorizer, TfidfVectorizer\n",
    "from sklearn.feature_selection import chi2\n",
    "from sklearn.metrics import accuracy_score, confusion_matrix, classification_report, roc_curve"
   ]
  },
  {
   "cell_type": "markdown",
   "metadata": {},
   "source": [
    "### Read data"
   ]
  },
  {
   "cell_type": "markdown",
   "metadata": {},
   "source": [
    "La data se ha descargado del enlace: http://jmcauley.ucsd.edu/data/amazon/\n",
    "<br>*Nota:* los archivos que continen los datos pesan demasiado como para subirlos mediante git."
   ]
  },
  {
   "cell_type": "code",
   "execution_count": 3,
   "metadata": {},
   "outputs": [],
   "source": [
    "filename = \"data/reviews_Patio_Lawn_and_Garden_5.json\"\n",
    "reviews = []\n",
    "for line in open(filename, 'r'):\n",
    "    reviews.append(json.loads(line))\n",
    "reviews = json.dumps(reviews)"
   ]
  },
  {
   "cell_type": "code",
   "execution_count": 4,
   "metadata": {},
   "outputs": [],
   "source": [
    "data = pd.read_json(reviews)"
   ]
  },
  {
   "cell_type": "code",
   "execution_count": 5,
   "metadata": {},
   "outputs": [],
   "source": [
    "data = data[['reviewText', 'overall']]"
   ]
  },
  {
   "cell_type": "code",
   "execution_count": 6,
   "metadata": {},
   "outputs": [
    {
     "data": {
      "text/plain": [
       "'Good USA company that stands behind their products. I have had to warranty two hoses and they send replacements right out to you. I had one burst after awhile, you could see it buldge for weeks before it went so no suprises. The other one was winter related as I am bad and leave them out most of the time. Highly reccomend. Note the hundred footer is heavy and like wresting an anaconda when its time to put away, but it does have a far reach.'"
      ]
     },
     "execution_count": 6,
     "metadata": {},
     "output_type": "execute_result"
    }
   ],
   "source": [
    "data.loc[0, 'reviewText']"
   ]
  },
  {
   "cell_type": "markdown",
   "metadata": {},
   "source": [
    "### Dividir en train/test"
   ]
  },
  {
   "cell_type": "code",
   "execution_count": 7,
   "metadata": {},
   "outputs": [],
   "source": [
    "# Keep the 10% for testing\n",
    "data_test = data.sample(frac = 0.25)\n",
    "\n",
    "# The rest for training\n",
    "data = data.drop(index=data_test.index)"
   ]
  },
  {
   "cell_type": "markdown",
   "metadata": {},
   "source": [
    "### Preprocesado"
   ]
  },
  {
   "cell_type": "code",
   "execution_count": 8,
   "metadata": {},
   "outputs": [
    {
     "data": {
      "text/plain": [
       "reviewText    0\n",
       "overall       0\n",
       "dtype: int64"
      ]
     },
     "execution_count": 8,
     "metadata": {},
     "output_type": "execute_result"
    }
   ],
   "source": [
    "data.isnull().sum()"
   ]
  },
  {
   "cell_type": "markdown",
   "metadata": {},
   "source": [
    "Aparentemente no hay nulos, pero vamos a comprobarlo, ya que al tratarse de texto muchas veces estos nulos aparecen en forma de \"\\n\", \" \" o emoticonos."
   ]
  },
  {
   "cell_type": "code",
   "execution_count": 9,
   "metadata": {},
   "outputs": [
    {
     "data": {
      "text/plain": [
       "128                                                       \n",
       "9079                                                      \n",
       "13082                                                     \n",
       "9314                                                      \n",
       "10109                                                     \n",
       "                               ...                        \n",
       "6014     wow! At first I put this sideways so the indic...\n",
       "1198     wow! I just may have green thumb, brought jobe...\n",
       "12051    wow!!! I must say that I noticed drastic chang...\n",
       "9745     you should try this!  I have used pre-emergent...\n",
       "10350    you will not go wrong with this combination . ...\n",
       "Name: reviewText, Length: 9954, dtype: object"
      ]
     },
     "execution_count": 9,
     "metadata": {},
     "output_type": "execute_result"
    }
   ],
   "source": [
    "data['reviewText'].sort_values()"
   ]
  },
  {
   "cell_type": "markdown",
   "metadata": {},
   "source": [
    "Vemos que, efectivamente hay instancias que debemos descartar ya que si que tienen la review vacia."
   ]
  },
  {
   "cell_type": "code",
   "execution_count": 10,
   "metadata": {},
   "outputs": [],
   "source": [
    "def remove_accents(text):\n",
    "    if text:\n",
    "        unaccented_string = unidecode.unidecode(text)\n",
    "        return unaccented_string\n",
    "    return \"\"\n",
    "\n",
    "def remove_punctuation_marks(text):\n",
    "    if text:\n",
    "        translator = str.maketrans('', '', string.punctuation)\n",
    "        return text.translate(translator)\n",
    "    return \"\"\n",
    "\n",
    "def text_to_lower_case(text):\n",
    "    if text:\n",
    "        # Convertir a minusculas \n",
    "        # (aunque más adelante el tf-idf vectorizer lo hace automático, \n",
    "        #lo hacemos como paso del procesamiento del texto.\n",
    "        return text.lower()\n",
    "    return \"\"\n",
    "\n",
    "def remove_emojis(text):\n",
    "    if text:\n",
    "        str_enc = text.encode(encoding = 'ascii', errors = 'ignore')\n",
    "        return str_enc.decode(encoding = 'ascii', errors='ignore')\n",
    "    return \"\"\n",
    "\n",
    "def remove_multiple_whitespaces(text):\n",
    "    if text:\n",
    "        return re.sub(' +', ' ', text).strip()\n",
    "    return \"\"\n",
    "\n",
    "def remove_text_marks(text):\n",
    "    if text:\n",
    "        # Reemplazamos it's por its\n",
    "        text = re.sub(r\"\\'\",\"\", text)\n",
    "        # Reemplazamos *, ?, ... por espacios\n",
    "        text = re.sub(r'[^\\w]', \" \", text)\n",
    "        return text.strip()\n",
    "    \n",
    "    return \"\"\n",
    "\n",
    "def remove_alone_numbers(text):\n",
    "    if text:\n",
    "        text = re.sub(r\"\\d\",\" \", text)\n",
    "        return text\n",
    "    \n",
    "    return \"\"\n"
   ]
  },
  {
   "cell_type": "code",
   "execution_count": 11,
   "metadata": {},
   "outputs": [],
   "source": [
    "def clean_text(text):\n",
    "    text = text_to_lower_case(text)\n",
    "    text = remove_text_marks(text)\n",
    "    text = remove_punctuation_marks(text)\n",
    "    text = remove_accents(text)\n",
    "    text = remove_emojis(text)\n",
    "    text = remove_alone_numbers(text)\n",
    "    text = remove_multiple_whitespaces(text)\n",
    "    \n",
    "    # Return\n",
    "    return text"
   ]
  },
  {
   "cell_type": "code",
   "execution_count": 12,
   "metadata": {},
   "outputs": [],
   "source": [
    "data['Text_Clean'] = data.reviewText.apply(lambda text: clean_text(text))"
   ]
  },
  {
   "cell_type": "code",
   "execution_count": 13,
   "metadata": {},
   "outputs": [
    {
     "data": {
      "text/plain": [
       "array([[\"When I first saw these, I thought &#34;Hmmm. Wonder if they're legal as weapons?&#34;  Hey, I'm a knife collector!  Just putting it out there - these would make one heck of a weapon.  They are designed to grip meat, shred pork and more.  They are surprisingly sharp and strong.  I look forward to using them the next time I need to BBQ a bunch of steaks on the grill.\",\n",
       "        'when i first saw these i thought hmmm wonder if theyre legal as weapons hey im a knife collector just putting it out there these would make one heck of a weapon they are designed to grip meat shred pork and more they are surprisingly sharp and strong i look forward to using them the next time i need to bbq a bunch of steaks on the grill']],\n",
       "      dtype=object)"
      ]
     },
     "execution_count": 13,
     "metadata": {},
     "output_type": "execute_result"
    }
   ],
   "source": [
    "data[[\"reviewText\", \"Text_Clean\"]].tail(1).values"
   ]
  },
  {
   "cell_type": "code",
   "execution_count": 14,
   "metadata": {},
   "outputs": [],
   "source": [
    "idx = np.array(data[data.Text_Clean == ''].index)\n",
    "data.drop(idx, axis = 0, inplace = True)"
   ]
  },
  {
   "cell_type": "code",
   "execution_count": 15,
   "metadata": {},
   "outputs": [
    {
     "data": {
      "text/plain": [
       "1298     a baby red squirrel well this is his dream buf...\n",
       "4416     a bad back is a problem when you like to garde...\n",
       "8794     a bag of catfood in the laundry room closet go...\n",
       "1520     a bird feeder is an act of kindness from one s...\n",
       "1551     a bit disappointed in the quality of this trim...\n",
       "                               ...                        \n",
       "10350    you will not go wrong with this combination th...\n",
       "12746    you will not have a hard time putting this tog...\n",
       "3033     you wouldnt think that a way splitter would be...\n",
       "9188     your house is sitting on the stream we drank f...\n",
       "4065     youre not going to leave this out over the win...\n",
       "Name: Text_Clean, Length: 9943, dtype: object"
      ]
     },
     "execution_count": 15,
     "metadata": {},
     "output_type": "execute_result"
    }
   ],
   "source": [
    "data.Text_Clean.sort_values()"
   ]
  },
  {
   "cell_type": "markdown",
   "metadata": {},
   "source": [
    "### EDA"
   ]
  },
  {
   "cell_type": "markdown",
   "metadata": {},
   "source": [
    "Usaremos la libreria NLTK"
   ]
  },
  {
   "cell_type": "code",
   "execution_count": 16,
   "metadata": {},
   "outputs": [],
   "source": [
    "def convert_to_nltk_text(data, \n",
    "                         text_field):\n",
    "    tokens = []\n",
    "    for text in data[text_field].values:\n",
    "        tokens.extend(text.split(\" \"))\n",
    "\n",
    "    return nltk.Text(tokens)"
   ]
  },
  {
   "cell_type": "code",
   "execution_count": 17,
   "metadata": {},
   "outputs": [],
   "source": [
    "nltk_text = convert_to_nltk_text(data, \"Text_Clean\")"
   ]
  },
  {
   "cell_type": "markdown",
   "metadata": {},
   "source": [
    "Vamos a ver primero la **distribucion del vocabulario** y volveremos a esto una vez hayamos limpiado el texto para ver como cambia:"
   ]
  },
  {
   "cell_type": "code",
   "execution_count": 18,
   "metadata": {},
   "outputs": [],
   "source": [
    "freq_dist = nltk.FreqDist(nltk_text)"
   ]
  },
  {
   "cell_type": "markdown",
   "metadata": {},
   "source": [
    "- Cuantas veces aparece una palabra en el texto:"
   ]
  },
  {
   "cell_type": "code",
   "execution_count": 19,
   "metadata": {},
   "outputs": [
    {
     "data": {
      "image/png": "[encoded data removed]",
      "text/plain": [
       "<Figure size 864x432 with 1 Axes>"
      ]
     },
     "metadata": {
      "needs_background": "light"
     },
     "output_type": "display_data"
    },
    {
     "data": {
      "text/plain": [
       "<AxesSubplot:xlabel='Samples', ylabel='Counts'>"
      ]
     },
     "execution_count": 19,
     "metadata": {},
     "output_type": "execute_result"
    }
   ],
   "source": [
    "plt.figure(figsize = (12, 6))\n",
    "freq_dist.plot(50)"
   ]
  },
  {
   "cell_type": "markdown",
   "metadata": {},
   "source": [
    "Con esto vemos que las palabras que más aparecen no son para nada aquellas que más información aportan al sentimiento del texto. <br> Es por esto que vamos a limpiar el texto quitando las stopwords y haciendo stemming.\n",
    "<br> Las palabras más importantes son aquellas que aparecen poco pero proporcionan significado"
   ]
  },
  {
   "cell_type": "code",
   "execution_count": 20,
   "metadata": {},
   "outputs": [],
   "source": [
    "def get_tokens(text):\n",
    "    if isinstance(text, nltk.Text):\n",
    "        tokens = text.tokens\n",
    "    else:\n",
    "        tokens = text.split(\" \")\n",
    "    \n",
    "    return tokens\n",
    "\n",
    "def remove_stopwords(text, \n",
    "                     language):\n",
    "    # Import stopwords\n",
    "    from nltk.corpus import stopwords\n",
    "    \n",
    "    stopwords_list = stopwords.words(language)\n",
    "    \n",
    "    tokens = get_tokens(text)\n",
    "        \n",
    "    cleaned_text = [tokens[i] for i in range(len(tokens)) if tokens[i] not in stopwords_list]\n",
    "    \n",
    "    if isinstance(text, nltk.Text):\n",
    "        output = nltk.Text(cleaned_text)\n",
    "    else:\n",
    "        output = \" \".join(cleaned_text)\n",
    "    \n",
    "    return output\n",
    "\n",
    "def stem_text(text,\n",
    "              language):\n",
    "   \n",
    "    from nltk.stem.snowball import SnowballStemmer\n",
    "   \n",
    "    stemmer = SnowballStemmer(language)\n",
    "    \n",
    "    tokens = get_tokens(text)\n",
    "    \n",
    "    stemmas = [stemmer.stem(word) for word in tokens]\n",
    "    \n",
    "    if isinstance(text, nltk.Text):\n",
    "        output = nltk.Text(stemmas)\n",
    "    else:\n",
    "        output = \" \".join(stemmas)\n",
    "    \n",
    "    return output\n",
    "\n",
    "def standardize_text(text,\n",
    "                     language):\n",
    "    # Remove the stop words\n",
    "    standardized_text = remove_stopwords(text, language)\n",
    "    \n",
    "    # Stemming\n",
    "    standardized_text = stem_text(standardized_text, language)\n",
    "    #standardized_text = stem_text(text, language)\n",
    "    \n",
    "    # Return\n",
    "    return standardized_text"
   ]
  },
  {
   "cell_type": "markdown",
   "metadata": {},
   "source": [
    "*------------------------------------------------------------*<br>\n",
    "Para hacer la prueba sin hacer el paso de remove_stopwords comentamos la primera linea de codigo de la funcion standardize_text"
   ]
  },
  {
   "cell_type": "code",
   "execution_count": 21,
   "metadata": {},
   "outputs": [],
   "source": [
    "data['Standardized_Text'] = data.Text_Clean.apply(lambda text: standardize_text(text, \"english\"))"
   ]
  },
  {
   "cell_type": "markdown",
   "metadata": {},
   "source": [
    "Volvemos a visualizar la distribucion del vocabulario y comparamos con el grafico anterior:"
   ]
  },
  {
   "cell_type": "code",
   "execution_count": 22,
   "metadata": {},
   "outputs": [],
   "source": [
    "standardized_nltk_text = standardize_text(nltk_text, \"english\")"
   ]
  },
  {
   "cell_type": "code",
   "execution_count": 23,
   "metadata": {},
   "outputs": [
    {
     "data": {
      "image/png": "[encoded data removed]",
      "text/plain": [
       "<Figure size 864x432 with 1 Axes>"
      ]
     },
     "metadata": {
      "needs_background": "light"
     },
     "output_type": "display_data"
    },
    {
     "data": {
      "text/plain": [
       "<AxesSubplot:xlabel='Samples', ylabel='Counts'>"
      ]
     },
     "execution_count": 23,
     "metadata": {},
     "output_type": "execute_result"
    }
   ],
   "source": [
    "plt.figure(figsize = (12, 6))\n",
    "nltk.FreqDist(standardized_nltk_text).plot(50)"
   ]
  },
  {
   "cell_type": "markdown",
   "metadata": {},
   "source": [
    "Podemos ver, para empezar que la máxima frecuencia es mucho más baja que en el gráfico anterior. Esto significa que las palabras más frecuentes, que normalmente son aquellas sin significado llamadas \"stopwords\" se han eliminado y nos hemos quedado con un vocabulario relevante e informativo para predecir el sentimiento del usuario."
   ]
  },
  {
   "cell_type": "markdown",
   "metadata": {},
   "source": [
    "*------------------------------------------------------------*<br>\n",
    "Tras hacer la prueba de quitar stopwords, vemos que el grafico se mantiene como el primero y aunque las palabras \"normalizadas\" seguimos teniendo muchas palabras sin significado que, además, aparecen muchas veces en el texto introduciendo ruido en el texto. <br> Más abajo reentrenamos el modelo y vemos como ha afectado este cambio en el preprocesado. "
   ]
  },
  {
   "cell_type": "markdown",
   "metadata": {},
   "source": [
    "### Get data ready for training the models"
   ]
  },
  {
   "cell_type": "markdown",
   "metadata": {},
   "source": [
    "#### Convertir a problema de clasificacion"
   ]
  },
  {
   "cell_type": "code",
   "execution_count": 24,
   "metadata": {},
   "outputs": [],
   "source": [
    "def star_sentiment_matching(value):\n",
    "    if value <3:\n",
    "        return 0#'bad'\n",
    "    else:\n",
    "        return 1#'good'\n",
    "    "
   ]
  },
  {
   "cell_type": "code",
   "execution_count": 25,
   "metadata": {},
   "outputs": [],
   "source": [
    "data['Sentiment'] = data.overall.apply(lambda value: star_sentiment_matching(value))\n",
    "data = data.drop(columns = [\"overall\"])"
   ]
  },
  {
   "cell_type": "markdown",
   "metadata": {},
   "source": [
    "#### Balanceo de clases:"
   ]
  },
  {
   "cell_type": "code",
   "execution_count": 26,
   "metadata": {},
   "outputs": [
    {
     "name": "stdout",
     "output_type": "stream",
     "text": [
      "Amount of data for 'Good' \t: 9056\n",
      "Amount of data for 'Bad'\t: 887\n"
     ]
    },
    {
     "data": {
      "image/png": "[encoded data removed]",
      "text/plain": [
       "<Figure size 720x504 with 1 Axes>"
      ]
     },
     "metadata": {
      "needs_background": "light"
     },
     "output_type": "display_data"
    }
   ],
   "source": [
    "plt.subplots(nrows=1,ncols=1,figsize=(10,7))\n",
    "ax = sns.countplot(x='Sentiment', data=data)\n",
    "ax.set_title(\"Comments by sentiment:\")\n",
    "ax.set_ylabel(\"Number of comments\")\n",
    "\n",
    "dataPerSentiment = data['Sentiment'].value_counts()\n",
    "print(f\"Amount of data for 'Good' \\t: {dataPerSentiment[1]}\")\n",
    "print(f\"Amount of data for 'Bad'\\t: {dataPerSentiment[0]}\")"
   ]
  },
  {
   "cell_type": "code",
   "execution_count": 27,
   "metadata": {},
   "outputs": [],
   "source": [
    "def balance_dataset(data,sample_number):\n",
    "    data = data.groupby(['Sentiment']).apply(lambda _df: _df.sample(n=sample_number, random_state=1, replace = True))\n",
    "    data.reset_index(level=0, drop=True, inplace = True)\n",
    "    return data\n",
    "    "
   ]
  },
  {
   "cell_type": "code",
   "execution_count": 28,
   "metadata": {},
   "outputs": [],
   "source": [
    "sample_number = 1200 \n",
    "balance = True\n",
    "replace = True\n",
    "\n",
    "data = balance_dataset(data = data,\n",
    "                           sample_number = sample_number)"
   ]
  },
  {
   "cell_type": "code",
   "execution_count": 29,
   "metadata": {
    "scrolled": false
   },
   "outputs": [
    {
     "data": {
      "text/plain": [
       "Text(0, 0.5, 'Number of comments')"
      ]
     },
     "execution_count": 29,
     "metadata": {},
     "output_type": "execute_result"
    },
    {
     "data": {
      "image/png": "[encoded data removed]",
      "text/plain": [
       "<Figure size 720x504 with 1 Axes>"
      ]
     },
     "metadata": {
      "needs_background": "light"
     },
     "output_type": "display_data"
    }
   ],
   "source": [
    "plt.subplots(nrows=1,ncols=1,figsize=(10,7))\n",
    "ax = sns.countplot(x='Sentiment', data=data)\n",
    "ax.set_title(\"Comments by sentiment:\")\n",
    "ax.set_ylabel(\"Number of comments\")"
   ]
  },
  {
   "cell_type": "markdown",
   "metadata": {},
   "source": [
    "#### Separar entre X/y"
   ]
  },
  {
   "cell_type": "code",
   "execution_count": 30,
   "metadata": {},
   "outputs": [],
   "source": [
    "objective_var = 'Sentiment'\n",
    "\n",
    "y_train = data[objective_var].values\n",
    "\n",
    "X_train = data['Standardized_Text']"
   ]
  },
  {
   "cell_type": "code",
   "execution_count": 31,
   "metadata": {},
   "outputs": [
    {
     "data": {
      "text/plain": [
       "767      appear attract mosquito light chemic toxic tou...\n",
       "3855     look like work came batteri came littl bit pea...\n",
       "1350     reason gave feeder two star instead one like g...\n",
       "11046    took one glanc feeder realiz major design flaw...\n",
       "10687    high hope dog cat repel deterr keep two austra...\n",
       "                               ...                        \n",
       "0        good usa compani stand behind product warranti...\n",
       "3639     put trap long time ago never caught anyth left...\n",
       "12651    easi put togeth set upso far issu squirrelsthe...\n",
       "7999     lawn home infect insect purchas high hope seem...\n",
       "1999     back wood sure deer ground hog rabbit squash p...\n",
       "Name: Standardized_Text, Length: 2400, dtype: object"
      ]
     },
     "execution_count": 31,
     "metadata": {},
     "output_type": "execute_result"
    }
   ],
   "source": [
    "X_train"
   ]
  },
  {
   "cell_type": "markdown",
   "metadata": {},
   "source": [
    "#### Extracción de features"
   ]
  },
  {
   "cell_type": "code",
   "execution_count": 32,
   "metadata": {},
   "outputs": [],
   "source": [
    "max_num_words = 3000"
   ]
  },
  {
   "cell_type": "code",
   "execution_count": 33,
   "metadata": {},
   "outputs": [],
   "source": [
    "cv = TfidfVectorizer(\n",
    "    ngram_range = (2,3), #para capturar el CONTEXTO de las palabras\n",
    "    max_df = 0.95,\n",
    "    min_df = 3,\n",
    "    max_features = max_num_words \n",
    ")"
   ]
  },
  {
   "cell_type": "code",
   "execution_count": 34,
   "metadata": {},
   "outputs": [
    {
     "data": {
      "text/plain": [
       "TfidfVectorizer(max_df=0.95, max_features=3000, min_df=3, ngram_range=(2, 3))"
      ]
     },
     "execution_count": 34,
     "metadata": {},
     "output_type": "execute_result"
    }
   ],
   "source": [
    "cv.fit(X_train)"
   ]
  },
  {
   "cell_type": "code",
   "execution_count": 35,
   "metadata": {},
   "outputs": [],
   "source": [
    "X_train_ = cv.transform(X_train)"
   ]
  },
  {
   "cell_type": "markdown",
   "metadata": {},
   "source": [
    "### Dejar la test data lista:"
   ]
  },
  {
   "cell_type": "code",
   "execution_count": 36,
   "metadata": {},
   "outputs": [],
   "source": [
    "def do_text_transformations(data: pd.DataFrame,\n",
    "                            text_field: str,\n",
    "                            language: str = \"english\"):\n",
    "    # TODO: Clean the text\n",
    "    data['Text_Clean'] = data[text_field].apply(lambda text: clean_text(text))\n",
    "    idx = np.array(data[data.Text_Clean == ''].index)\n",
    "    data.drop(idx, axis = 0, inplace = True)\n",
    "    \n",
    "    # TODO: Standardize the text\n",
    "    data['Standardized_Text'] = data.Text_Clean.apply(lambda text: standardize_text(text, language))\n",
    "\n",
    "    data['Sentiment'] = data.overall.apply(lambda value: star_sentiment_matching(value))\n",
    "    data = data.drop(columns = [\"overall\"])\n",
    "    \n",
    "    objective_var = 'Sentiment'\n",
    "    y = data[objective_var].values\n",
    "    X = data['Standardized_Text']\n",
    "    \n",
    "    return X,y"
   ]
  },
  {
   "cell_type": "code",
   "execution_count": 37,
   "metadata": {},
   "outputs": [],
   "source": [
    "X_test, y_test = do_text_transformations(data = data_test,\n",
    "                                      text_field = \"reviewText\")"
   ]
  },
  {
   "cell_type": "code",
   "execution_count": 38,
   "metadata": {},
   "outputs": [],
   "source": [
    "X_test_ = cv.transform(X_test)"
   ]
  },
  {
   "cell_type": "markdown",
   "metadata": {},
   "source": [
    "### Primer modelo"
   ]
  },
  {
   "cell_type": "code",
   "execution_count": 39,
   "metadata": {
    "scrolled": true
   },
   "outputs": [
    {
     "name": "stdout",
     "output_type": "stream",
     "text": [
      "Accuracy for C=0.01: 0.7607843137254902\n",
      "Accuracy for C=0.05: 0.7622926093514328\n",
      "Accuracy for C=0.25: 0.7677224736048266\n",
      "Accuracy for C=0.5: 0.7716440422322776\n",
      "Accuracy for C=1: 0.7740573152337858\n",
      "Accuracy for C=10: 0.77526395173454\n",
      "Accuracy for C=100: 0.7616892911010558\n",
      "Accuracy for C=1000: 0.7435897435897436\n",
      "Accuracy for C=10000: 0.73815987933635\n"
     ]
    }
   ],
   "source": [
    "c_params = [0.01, 0.05, 0.25, 0.5, 1, 10, 100, 1000, 10000]\n",
    "\n",
    "train_acc = list()\n",
    "test_acc = list()\n",
    "for c in c_params:\n",
    "    lr = LogisticRegression(C=c, solver='lbfgs', max_iter=2000)\n",
    "    lr.fit(X_train_, y_train)\n",
    "    \n",
    "    train_predict = lr.predict(X_train_)\n",
    "    test_predict = lr.predict(X_test_)\n",
    "    \n",
    "    print (\"Accuracy for C={}: {}\".format(c, accuracy_score(y_test, test_predict)))\n",
    "    \n",
    "    train_acc.append(accuracy_score(y_train, train_predict))\n",
    "    test_acc.append(accuracy_score(y_test, test_predict))"
   ]
  },
  {
   "cell_type": "code",
   "execution_count": 40,
   "metadata": {},
   "outputs": [
    {
     "data": {
      "image/png": "[encoded data removed]",
      "text/plain": [
       "<Figure size 864x576 with 1 Axes>"
      ]
     },
     "metadata": {
      "needs_background": "light"
     },
     "output_type": "display_data"
    }
   ],
   "source": [
    "plt.figure(figsize=(12, 8))\n",
    "plt.plot(train_acc, label='train')\n",
    "plt.plot(test_acc, label='test')\n",
    "plt.axvline(np.argmax(test_acc), c='g', ls='--', alpha=0.8)\n",
    "plt.title('Accuracy evolution for different C values')\n",
    "plt.xlabel('C')\n",
    "plt.ylabel('Accuracy')\n",
    "plt.legend()\n",
    "plt.grid()\n",
    "plt.xticks(list(range(len(c_params))), c_params)\n",
    "plt.tight_layout()\n",
    "plt.show()"
   ]
  },
  {
   "cell_type": "code",
   "execution_count": 41,
   "metadata": {},
   "outputs": [],
   "source": [
    "lr = LogisticRegression(C=1, solver='lbfgs', max_iter=2000).fit(X_train_, y_train)"
   ]
  },
  {
   "cell_type": "code",
   "execution_count": 42,
   "metadata": {},
   "outputs": [
    {
     "name": "stdout",
     "output_type": "stream",
     "text": [
      "Train:  0.9404166666666667\n",
      "Test:  0.7740573152337858\n"
     ]
    }
   ],
   "source": [
    "print(\"Train: \",lr.score(X_train_,y_train))\n",
    "print(\"Test: \",lr.score(X_test_,y_test))"
   ]
  },
  {
   "cell_type": "code",
   "execution_count": 43,
   "metadata": {},
   "outputs": [
    {
     "name": "stdout",
     "output_type": "stream",
     "text": [
      "Confussion matrix:\n",
      "[[ 162  141]\n",
      " [ 727 2285]]\n",
      "\n",
      "Classification report:\n",
      "              precision    recall  f1-score   support\n",
      "\n",
      "           0       0.18      0.53      0.27       303\n",
      "           1       0.94      0.76      0.84      3012\n",
      "\n",
      "    accuracy                           0.74      3315\n",
      "   macro avg       0.56      0.65      0.56      3315\n",
      "weighted avg       0.87      0.74      0.79      3315\n",
      "\n",
      "Accuracy score:0.73815987933635\n"
     ]
    }
   ],
   "source": [
    "print('Confussion matrix:\\n{}'.format(confusion_matrix(y_test, test_predict)))\n",
    "print('\\nClassification report:\\n{}'.format(classification_report(y_test, test_predict)))\n",
    "print('Accuracy score:{}'.format(accuracy_score(y_test, test_predict)))"
   ]
  },
  {
   "cell_type": "markdown",
   "metadata": {},
   "source": [
    "Podemos ver que el modelo tiene una accuracy score aceptable para el dataset de training aunque es mejorable. <br>Vemos que tiene una mayor precision para los textos con sentimiento positivo (1) mientras que la precision para predecir el sentimiento de valoraciones negativas es bastante malo. <br> Esto nos hace pensar que cuando el usuario está contento usa palabras mucho más relevantes que aquellos usuarios a los que le ponen una mala calificacion al producto; y por eso el modelo predice mucho mejor sobre ellos. <br> Además, podemos ver que hay bastante overfitting. Vamos a probar con el segundo modelo (Random Forest) a ver si predice mejor."
   ]
  },
  {
   "cell_type": "markdown",
   "metadata": {},
   "source": [
    "### Segundo modelo"
   ]
  },
  {
   "cell_type": "code",
   "execution_count": 44,
   "metadata": {},
   "outputs": [
    {
     "name": "stdout",
     "output_type": "stream",
     "text": [
      "best mean cross-validation score: 0.752\n",
      "best parameters: {'max_depth': 12}\n"
     ]
    },
    {
     "data": {
      "image/png": "[encoded data removed]",
      "text/plain": [
       "<Figure size 432x288 with 1 Axes>"
      ]
     },
     "metadata": {
      "needs_background": "light"
     },
     "output_type": "display_data"
    }
   ],
   "source": [
    "# grid search\n",
    "maxDepth = range(1,15)\n",
    "tuned_parameters = {'max_depth': maxDepth}\n",
    "\n",
    "grid = GridSearchCV(RandomForestClassifier(random_state=0, n_estimators=400), param_grid=tuned_parameters,cv=10) \n",
    "grid.fit(X_train_, y_train)\n",
    "\n",
    "print(\"best mean cross-validation score: {:.3f}\".format(grid.best_score_))\n",
    "print(\"best parameters: {}\".format(grid.best_params_))\n",
    "\n",
    "scores = np.array(grid.cv_results_['mean_test_score'])\n",
    "plt.plot(maxDepth,scores,'-o')\n",
    "plt.xlabel('max_depth')\n",
    "plt.ylabel('10-fold ACC')\n",
    "\n",
    "plt.show()"
   ]
  },
  {
   "cell_type": "code",
   "execution_count": 45,
   "metadata": {},
   "outputs": [],
   "source": [
    "maxDepthOptimo = 6#grid.best_params_['max_depth']\n",
    "bagModel = RandomForestClassifier(max_depth=maxDepthOptimo,n_estimators=400).fit(X_train_,y_train)"
   ]
  },
  {
   "cell_type": "code",
   "execution_count": 46,
   "metadata": {},
   "outputs": [
    {
     "name": "stdout",
     "output_type": "stream",
     "text": [
      "Train:  0.835\n",
      "Test:  0.8250377073906485\n"
     ]
    }
   ],
   "source": [
    "print(\"Train: \",bagModel.score(X_train_,y_train))\n",
    "print(\"Test: \",bagModel.score(X_test_,y_test))"
   ]
  },
  {
   "cell_type": "code",
   "execution_count": 47,
   "metadata": {},
   "outputs": [
    {
     "name": "stdout",
     "output_type": "stream",
     "text": [
      "Confussion matrix:\n",
      "[[ 127  176]\n",
      " [ 404 2608]]\n",
      "\n",
      "Classification report:\n",
      "              precision    recall  f1-score   support\n",
      "\n",
      "           0       0.24      0.42      0.30       303\n",
      "           1       0.94      0.87      0.90      3012\n",
      "\n",
      "    accuracy                           0.83      3315\n",
      "   macro avg       0.59      0.64      0.60      3315\n",
      "weighted avg       0.87      0.83      0.85      3315\n",
      "\n",
      "Accuracy score:0.8250377073906485\n"
     ]
    }
   ],
   "source": [
    "test_predict_RF = bagModel.predict(X_test_)\n",
    "\n",
    "print('Confussion matrix:\\n{}'.format(confusion_matrix(y_test, test_predict_RF)))\n",
    "print('\\nClassification report:\\n{}'.format(classification_report(y_test, test_predict_RF)))\n",
    "print('Accuracy score:{}'.format(accuracy_score(y_test, test_predict_RF)))"
   ]
  },
  {
   "cell_type": "markdown",
   "metadata": {},
   "source": [
    "Vemos que el accuracy ha mejorado bastante teniendo casi un 83% en test, por lo que podemos decir que tenemos un buen modelo que capta el sentimiento de los usuarios que valoran los productos en amazon. <br> Vemos que la precision sobre valoraciones consideradas positivas (1) sigue siendo muy alta, y la de las valoraciones negativas (0) ha subido pero sigue siendo muy baja respecto a la positiva.\n",
    "<br> Además, en este modelo no tenemos un sobreajuste a los datos por lo que es mucho más robusto. "
   ]
  },
  {
   "cell_type": "markdown",
   "metadata": {},
   "source": [
    "*------------------------------------------------------------*<br>\n",
    "Vemos que el accuracy del modelo baja a 0.79 de accuracy, por lo podemos reafirmar la teoría de que no quitar las stopwords entorpece la predicción del algoritmo para detectar el sentimiento de una review."
   ]
  },
  {
   "cell_type": "markdown",
   "metadata": {},
   "source": [
    "### Guardamos el mejor modelo"
   ]
  },
  {
   "cell_type": "markdown",
   "metadata": {},
   "source": [
    "Para hacer pruebas sobre como aplica este modelo recibiendo como input reviews de otra temática en amazon, vamos a guardarlo y meterle otros datos:"
   ]
  },
  {
   "cell_type": "code",
   "execution_count": 48,
   "metadata": {},
   "outputs": [],
   "source": [
    "import pickle"
   ]
  },
  {
   "cell_type": "code",
   "execution_count": 49,
   "metadata": {},
   "outputs": [],
   "source": [
    "filename = 'rf'\n",
    "pickle.dump(bagModel, open(filename, 'wb'))"
   ]
  },
  {
   "cell_type": "markdown",
   "metadata": {},
   "source": [
    "--------"
   ]
  },
  {
   "cell_type": "code",
   "execution_count": 50,
   "metadata": {},
   "outputs": [
    {
     "name": "stdout",
     "output_type": "stream",
     "text": [
      "/Users/amparoalias/Desktop/Keepcoding/nlp\n"
     ]
    }
   ],
   "source": [
    "import os \n",
    "path = os.path.dirname(os.path.realpath('AmparoAlias_sentiment_analysis')) \n",
    "print(path)\n",
    "import sys \n",
    "sys.path.insert (0, path) "
   ]
  },
  {
   "cell_type": "code",
   "execution_count": 51,
   "metadata": {},
   "outputs": [],
   "source": [
    "import utils \n",
    "from utils import do_text_transformations"
   ]
  },
  {
   "cell_type": "code",
   "execution_count": 52,
   "metadata": {},
   "outputs": [],
   "source": [
    "filename = 'rf'\n",
    "bagModel = pickle.load(open(filename, 'rb'))"
   ]
  },
  {
   "cell_type": "code",
   "execution_count": 53,
   "metadata": {},
   "outputs": [],
   "source": [
    "filename = \"data/pet_supplies.json\"\n",
    "reviews = []\n",
    "for line in open(filename, 'r'):\n",
    "    reviews.append(json.loads(line))\n",
    "reviews = json.dumps(reviews)"
   ]
  },
  {
   "cell_type": "code",
   "execution_count": 54,
   "metadata": {},
   "outputs": [],
   "source": [
    "data2 = pd.read_json(reviews)"
   ]
  },
  {
   "cell_type": "code",
   "execution_count": 55,
   "metadata": {},
   "outputs": [],
   "source": [
    "data2 = data2[['reviewText', 'overall']]"
   ]
  },
  {
   "cell_type": "code",
   "execution_count": 56,
   "metadata": {},
   "outputs": [],
   "source": [
    "n = 1500\n",
    "data2 = data2.sample(n=n, random_state=2)"
   ]
  },
  {
   "cell_type": "code",
   "execution_count": 57,
   "metadata": {},
   "outputs": [],
   "source": [
    "data2 = do_text_transformations(data = data2, text_field = 'reviewText')"
   ]
  },
  {
   "cell_type": "code",
   "execution_count": 58,
   "metadata": {},
   "outputs": [],
   "source": [
    "objective_var = 'Sentiment'\n",
    "\n",
    "y = data[objective_var].values\n",
    "\n",
    "X = data['Standardized_Text']"
   ]
  },
  {
   "cell_type": "code",
   "execution_count": 59,
   "metadata": {},
   "outputs": [],
   "source": [
    "X_ = cv.transform(X)"
   ]
  },
  {
   "cell_type": "code",
   "execution_count": 60,
   "metadata": {},
   "outputs": [],
   "source": [
    "prediction = bagModel.predict(X_)"
   ]
  },
  {
   "cell_type": "code",
   "execution_count": 61,
   "metadata": {},
   "outputs": [
    {
     "name": "stdout",
     "output_type": "stream",
     "text": [
      "Confussion matrix:\n",
      "[[ 867  333]\n",
      " [  63 1137]]\n",
      "\n",
      "Classification report:\n",
      "              precision    recall  f1-score   support\n",
      "\n",
      "           0       0.93      0.72      0.81      1200\n",
      "           1       0.77      0.95      0.85      1200\n",
      "\n",
      "    accuracy                           0.83      2400\n",
      "   macro avg       0.85      0.83      0.83      2400\n",
      "weighted avg       0.85      0.83      0.83      2400\n",
      "\n",
      "Accuracy score:0.835\n"
     ]
    }
   ],
   "source": [
    "print('Confussion matrix:\\n{}'.format(confusion_matrix(y, prediction)))\n",
    "print('\\nClassification report:\\n{}'.format(classification_report(y, prediction)))\n",
    "print('Accuracy score:{}'.format(accuracy_score(y, prediction)))"
   ]
  },
  {
   "cell_type": "markdown",
   "metadata": {},
   "source": [
    "Vemos que para otras temáticas este modelo predice bastante bien. <br> Incluso pilla mejor los comentarios negativos. "
   ]
  },
  {
   "cell_type": "code",
   "execution_count": null,
   "metadata": {},
   "outputs": [],
   "source": []
  }
 ],
 "metadata": {
  "kernelspec": {
   "display_name": "Python 3",
   "language": "python",
   "name": "python3"
  },
  "language_info": {
   "codemirror_mode": {
    "name": "ipython",
    "version": 3
   },
   "file_extension": ".py",
   "mimetype": "text/x-python",
   "name": "python",
   "nbconvert_exporter": "python",
   "pygments_lexer": "ipython3",
   "version": "3.7.7"
  }
 },
 "nbformat": 4,
 "nbformat_minor": 4
}
